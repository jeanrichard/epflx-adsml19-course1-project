{
 "cells": [
  {
   "cell_type": "markdown",
   "metadata": {},
   "source": [
    "# Course 1: Project"
   ]
  },
  {
   "cell_type": "code",
   "execution_count": 1,
   "metadata": {},
   "outputs": [],
   "source": [
    "# Standard library:\n",
    "import pathlib\n",
    "\n",
    "from typing import List, Tuple\n",
    "\n",
    "# 3rd party:\n",
    "import numpy as np\n",
    "import matplotlib.pyplot as plt\n",
    "import pandas as pd\n",
    "import seaborn as sns\n",
    "\n",
    "from matplotlib.cm import get_cmap\n",
    "from matplotlib.colors import Normalize\n",
    "\n",
    "%matplotlib inline"
   ]
  },
  {
   "cell_type": "markdown",
   "metadata": {},
   "source": [
    "## A. Importing, cleaning and numerical summaries"
   ]
  },
  {
   "cell_type": "markdown",
   "metadata": {},
   "source": [
    "### A.1. Download the data set data.csv from the Resources tab"
   ]
  },
  {
   "cell_type": "code",
   "execution_count": 2,
   "metadata": {},
   "outputs": [],
   "source": [
    "data_filename = pathlib.Path.cwd().joinpath('data.csv')"
   ]
  },
  {
   "cell_type": "markdown",
   "metadata": {},
   "source": [
    "### A.2. Import the data as a Pandas DataFrame"
   ]
  },
  {
   "cell_type": "code",
   "execution_count": 3,
   "metadata": {},
   "outputs": [
    {
     "data": {
      "text/html": [
       "<div>\n",
       "<style scoped>\n",
       "    .dataframe tbody tr th:only-of-type {\n",
       "        vertical-align: middle;\n",
       "    }\n",
       "\n",
       "    .dataframe tbody tr th {\n",
       "        vertical-align: top;\n",
       "    }\n",
       "\n",
       "    .dataframe thead th {\n",
       "        text-align: right;\n",
       "    }\n",
       "</style>\n",
       "<table border=\"1\" class=\"dataframe\">\n",
       "  <thead>\n",
       "    <tr style=\"text-align: right;\">\n",
       "      <th></th>\n",
       "      <th>Country</th>\n",
       "      <th>Happiness Rank</th>\n",
       "      <th>Happiness Score</th>\n",
       "      <th>Economy</th>\n",
       "      <th>Family</th>\n",
       "      <th>Health</th>\n",
       "      <th>Freedom</th>\n",
       "      <th>Generosity</th>\n",
       "      <th>Corruption</th>\n",
       "      <th>Dystopia</th>\n",
       "      <th>Job Satisfaction</th>\n",
       "      <th>Region</th>\n",
       "    </tr>\n",
       "  </thead>\n",
       "  <tbody>\n",
       "    <tr>\n",
       "      <th>0</th>\n",
       "      <td>Malta</td>\n",
       "      <td>27</td>\n",
       "      <td>6.527</td>\n",
       "      <td>1.343280</td>\n",
       "      <td>1.488412</td>\n",
       "      <td>0.821944</td>\n",
       "      <td>0.588767</td>\n",
       "      <td>0.574731</td>\n",
       "      <td>0.153066</td>\n",
       "      <td>1.556863</td>\n",
       "      <td>85.2</td>\n",
       "      <td>Western Europe</td>\n",
       "    </tr>\n",
       "    <tr>\n",
       "      <th>1</th>\n",
       "      <td>Zimbabwe</td>\n",
       "      <td>138</td>\n",
       "      <td>3.875</td>\n",
       "      <td>0.375847</td>\n",
       "      <td>1.083096</td>\n",
       "      <td>0.196764</td>\n",
       "      <td>0.336384</td>\n",
       "      <td>0.189143</td>\n",
       "      <td>0.095375</td>\n",
       "      <td>1.597970</td>\n",
       "      <td>56.3</td>\n",
       "      <td>Africa</td>\n",
       "    </tr>\n",
       "    <tr>\n",
       "      <th>2</th>\n",
       "      <td>Cyprus</td>\n",
       "      <td>65</td>\n",
       "      <td>5.621</td>\n",
       "      <td>1.355938</td>\n",
       "      <td>1.131363</td>\n",
       "      <td>0.844715</td>\n",
       "      <td>0.355112</td>\n",
       "      <td>0.271254</td>\n",
       "      <td>0.041238</td>\n",
       "      <td>1.621249</td>\n",
       "      <td>88.7</td>\n",
       "      <td>Eastern Europe</td>\n",
       "    </tr>\n",
       "  </tbody>\n",
       "</table>\n",
       "</div>"
      ],
      "text/plain": [
       "    Country  Happiness Rank  Happiness Score   Economy    Family    Health  \\\n",
       "0     Malta              27            6.527  1.343280  1.488412  0.821944   \n",
       "1  Zimbabwe             138            3.875  0.375847  1.083096  0.196764   \n",
       "2    Cyprus              65            5.621  1.355938  1.131363  0.844715   \n",
       "\n",
       "    Freedom  Generosity  Corruption  Dystopia  Job Satisfaction  \\\n",
       "0  0.588767    0.574731    0.153066  1.556863              85.2   \n",
       "1  0.336384    0.189143    0.095375  1.597970              56.3   \n",
       "2  0.355112    0.271254    0.041238  1.621249              88.7   \n",
       "\n",
       "           Region  \n",
       "0  Western Europe  \n",
       "1          Africa  \n",
       "2  Eastern Europe  "
      ]
     },
     "execution_count": 3,
     "metadata": {},
     "output_type": "execute_result"
    }
   ],
   "source": [
    "df = pd.read_csv(data_filename)\n",
    "\n",
    "df.head(3)"
   ]
  },
  {
   "cell_type": "markdown",
   "metadata": {},
   "source": [
    "### A.3. Check the number of observations"
   ]
  },
  {
   "cell_type": "code",
   "execution_count": 4,
   "metadata": {},
   "outputs": [
    {
     "data": {
      "text/plain": [
       "153"
      ]
     },
     "execution_count": 4,
     "metadata": {},
     "output_type": "execute_result"
    }
   ],
   "source": [
    "len(df)  # or df.shape[0]"
   ]
  },
  {
   "cell_type": "markdown",
   "metadata": {},
   "source": [
    "### A.4. Obtain the column headings"
   ]
  },
  {
   "cell_type": "code",
   "execution_count": 5,
   "metadata": {},
   "outputs": [
    {
     "data": {
      "text/plain": [
       "['Country',\n",
       " 'Happiness Rank',\n",
       " 'Happiness Score',\n",
       " 'Economy',\n",
       " 'Family',\n",
       " 'Health',\n",
       " 'Freedom',\n",
       " 'Generosity',\n",
       " 'Corruption',\n",
       " 'Dystopia',\n",
       " 'Job Satisfaction',\n",
       " 'Region']"
      ]
     },
     "execution_count": 5,
     "metadata": {},
     "output_type": "execute_result"
    }
   ],
   "source": [
    "df.columns.to_list()  # or list(df) or df.head(0)"
   ]
  },
  {
   "cell_type": "markdown",
   "metadata": {},
   "source": [
    "### A.5. Check the data type for each column | A.6. Check if there are any missing values"
   ]
  },
  {
   "cell_type": "code",
   "execution_count": 6,
   "metadata": {},
   "outputs": [
    {
     "name": "stdout",
     "output_type": "stream",
     "text": [
      "<class 'pandas.core.frame.DataFrame'>\n",
      "RangeIndex: 153 entries, 0 to 152\n",
      "Data columns (total 12 columns):\n",
      "Country             153 non-null object\n",
      "Happiness Rank      153 non-null int64\n",
      "Happiness Score     153 non-null float64\n",
      "Economy             153 non-null float64\n",
      "Family              153 non-null float64\n",
      "Health              153 non-null float64\n",
      "Freedom             153 non-null float64\n",
      "Generosity          153 non-null float64\n",
      "Corruption          153 non-null float64\n",
      "Dystopia            153 non-null float64\n",
      "Job Satisfaction    151 non-null float64\n",
      "Region              153 non-null object\n",
      "dtypes: float64(9), int64(1), object(2)\n",
      "memory usage: 14.4+ KB\n"
     ]
    }
   ],
   "source": [
    "df.info()"
   ]
  },
  {
   "cell_type": "markdown",
   "metadata": {},
   "source": [
    "**Note:** The data type detected by Pandas for each column is correct.\n",
    "\n",
    "**Note:** We can see that there are 2 missing values in the column _Job Satisfaction_."
   ]
  },
  {
   "cell_type": "code",
   "execution_count": 7,
   "metadata": {},
   "outputs": [
    {
     "data": {
      "text/html": [
       "<div>\n",
       "<style scoped>\n",
       "    .dataframe tbody tr th:only-of-type {\n",
       "        vertical-align: middle;\n",
       "    }\n",
       "\n",
       "    .dataframe tbody tr th {\n",
       "        vertical-align: top;\n",
       "    }\n",
       "\n",
       "    .dataframe thead th {\n",
       "        text-align: right;\n",
       "    }\n",
       "</style>\n",
       "<table border=\"1\" class=\"dataframe\">\n",
       "  <thead>\n",
       "    <tr style=\"text-align: right;\">\n",
       "      <th></th>\n",
       "      <th>Country</th>\n",
       "      <th>Happiness Rank</th>\n",
       "      <th>Happiness Score</th>\n",
       "      <th>Economy</th>\n",
       "      <th>Family</th>\n",
       "      <th>Health</th>\n",
       "      <th>Freedom</th>\n",
       "      <th>Generosity</th>\n",
       "      <th>Corruption</th>\n",
       "      <th>Dystopia</th>\n",
       "      <th>Job Satisfaction</th>\n",
       "      <th>Region</th>\n",
       "    </tr>\n",
       "  </thead>\n",
       "  <tbody>\n",
       "    <tr>\n",
       "      <th>43</th>\n",
       "      <td>North Cyprus</td>\n",
       "      <td>61</td>\n",
       "      <td>5.810</td>\n",
       "      <td>1.346911</td>\n",
       "      <td>1.186303</td>\n",
       "      <td>0.834647</td>\n",
       "      <td>0.471204</td>\n",
       "      <td>0.266846</td>\n",
       "      <td>0.155353</td>\n",
       "      <td>1.549158</td>\n",
       "      <td>NaN</td>\n",
       "      <td>Eastern Europe</td>\n",
       "    </tr>\n",
       "    <tr>\n",
       "      <th>61</th>\n",
       "      <td>South Sudan</td>\n",
       "      <td>147</td>\n",
       "      <td>3.591</td>\n",
       "      <td>0.397249</td>\n",
       "      <td>0.601323</td>\n",
       "      <td>0.163486</td>\n",
       "      <td>0.147062</td>\n",
       "      <td>0.285671</td>\n",
       "      <td>0.116794</td>\n",
       "      <td>1.879567</td>\n",
       "      <td>NaN</td>\n",
       "      <td>Africa</td>\n",
       "    </tr>\n",
       "  </tbody>\n",
       "</table>\n",
       "</div>"
      ],
      "text/plain": [
       "         Country  Happiness Rank  Happiness Score   Economy    Family  \\\n",
       "43  North Cyprus              61            5.810  1.346911  1.186303   \n",
       "61   South Sudan             147            3.591  0.397249  0.601323   \n",
       "\n",
       "      Health   Freedom  Generosity  Corruption  Dystopia  Job Satisfaction  \\\n",
       "43  0.834647  0.471204    0.266846    0.155353  1.549158               NaN   \n",
       "61  0.163486  0.147062    0.285671    0.116794  1.879567               NaN   \n",
       "\n",
       "            Region  \n",
       "43  Eastern Europe  \n",
       "61          Africa  "
      ]
     },
     "execution_count": 7,
     "metadata": {},
     "output_type": "execute_result"
    }
   ],
   "source": [
    "df[df.isna().any(axis=1)]"
   ]
  },
  {
   "cell_type": "markdown",
   "metadata": {},
   "source": [
    "### A.7. If necessary remove any observations to ensure that there are no missing values and the values in each column are of the same data type."
   ]
  },
  {
   "cell_type": "code",
   "execution_count": 8,
   "metadata": {},
   "outputs": [],
   "source": [
    "df_clean = df.dropna(axis=0, how='any').copy()\n",
    "assert len(df_clean) == 151\n",
    "\n",
    "# Rename for convenience:\n",
    "df = df_clean"
   ]
  },
  {
   "cell_type": "markdown",
   "metadata": {},
   "source": [
    "### A.8. Obtain the mean, minimum and maximum value for each column containing numerical data"
   ]
  },
  {
   "cell_type": "markdown",
   "metadata": {},
   "source": [
    "**Note:** We can use the built-in [`describe`](https://pandas.pydata.org/pandas-docs/stable/reference/api/pandas.DataFrame.describe.html) method. (As per the documentation, since `include` defaults to `None`, the result will include all numeric columns.) The `DataFrame` does includes more statistics than requested, though (count, std and percentiles)."
   ]
  },
  {
   "cell_type": "code",
   "execution_count": 9,
   "metadata": {},
   "outputs": [
    {
     "data": {
      "text/html": [
       "<div>\n",
       "<style scoped>\n",
       "    .dataframe tbody tr th:only-of-type {\n",
       "        vertical-align: middle;\n",
       "    }\n",
       "\n",
       "    .dataframe tbody tr th {\n",
       "        vertical-align: top;\n",
       "    }\n",
       "\n",
       "    .dataframe thead th {\n",
       "        text-align: right;\n",
       "    }\n",
       "</style>\n",
       "<table border=\"1\" class=\"dataframe\">\n",
       "  <thead>\n",
       "    <tr style=\"text-align: right;\">\n",
       "      <th></th>\n",
       "      <th>Happiness Rank</th>\n",
       "      <th>Happiness Score</th>\n",
       "      <th>Economy</th>\n",
       "      <th>Family</th>\n",
       "      <th>Health</th>\n",
       "      <th>Freedom</th>\n",
       "      <th>Generosity</th>\n",
       "      <th>Corruption</th>\n",
       "      <th>Dystopia</th>\n",
       "      <th>Job Satisfaction</th>\n",
       "    </tr>\n",
       "  </thead>\n",
       "  <tbody>\n",
       "    <tr>\n",
       "      <th>count</th>\n",
       "      <td>151.000000</td>\n",
       "      <td>151.000000</td>\n",
       "      <td>151.000000</td>\n",
       "      <td>151.000000</td>\n",
       "      <td>151.000000</td>\n",
       "      <td>151.000000</td>\n",
       "      <td>151.000000</td>\n",
       "      <td>151.000000</td>\n",
       "      <td>151.000000</td>\n",
       "      <td>151.000000</td>\n",
       "    </tr>\n",
       "    <tr>\n",
       "      <th>mean</th>\n",
       "      <td>77.827815</td>\n",
       "      <td>5.357874</td>\n",
       "      <td>0.983895</td>\n",
       "      <td>1.190509</td>\n",
       "      <td>0.550794</td>\n",
       "      <td>0.409805</td>\n",
       "      <td>0.244914</td>\n",
       "      <td>0.123008</td>\n",
       "      <td>1.854910</td>\n",
       "      <td>75.209934</td>\n",
       "    </tr>\n",
       "    <tr>\n",
       "      <th>std</th>\n",
       "      <td>44.934732</td>\n",
       "      <td>1.132826</td>\n",
       "      <td>0.420955</td>\n",
       "      <td>0.286371</td>\n",
       "      <td>0.236116</td>\n",
       "      <td>0.150144</td>\n",
       "      <td>0.135236</td>\n",
       "      <td>0.102776</td>\n",
       "      <td>0.502189</td>\n",
       "      <td>12.962365</td>\n",
       "    </tr>\n",
       "    <tr>\n",
       "      <th>min</th>\n",
       "      <td>1.000000</td>\n",
       "      <td>2.693000</td>\n",
       "      <td>0.000000</td>\n",
       "      <td>0.000000</td>\n",
       "      <td>0.000000</td>\n",
       "      <td>0.000000</td>\n",
       "      <td>0.000000</td>\n",
       "      <td>0.000000</td>\n",
       "      <td>0.377914</td>\n",
       "      <td>44.400000</td>\n",
       "    </tr>\n",
       "    <tr>\n",
       "      <th>25%</th>\n",
       "      <td>39.500000</td>\n",
       "      <td>4.505500</td>\n",
       "      <td>0.663371</td>\n",
       "      <td>1.042635</td>\n",
       "      <td>0.369866</td>\n",
       "      <td>0.303677</td>\n",
       "      <td>0.152574</td>\n",
       "      <td>0.056919</td>\n",
       "      <td>1.605148</td>\n",
       "      <td>68.950000</td>\n",
       "    </tr>\n",
       "    <tr>\n",
       "      <th>50%</th>\n",
       "      <td>78.000000</td>\n",
       "      <td>5.279000</td>\n",
       "      <td>1.064578</td>\n",
       "      <td>1.253918</td>\n",
       "      <td>0.606042</td>\n",
       "      <td>0.437454</td>\n",
       "      <td>0.230947</td>\n",
       "      <td>0.089283</td>\n",
       "      <td>1.832910</td>\n",
       "      <td>78.100000</td>\n",
       "    </tr>\n",
       "    <tr>\n",
       "      <th>75%</th>\n",
       "      <td>116.500000</td>\n",
       "      <td>6.101500</td>\n",
       "      <td>1.314879</td>\n",
       "      <td>1.418162</td>\n",
       "      <td>0.715975</td>\n",
       "      <td>0.519467</td>\n",
       "      <td>0.323762</td>\n",
       "      <td>0.152207</td>\n",
       "      <td>2.161605</td>\n",
       "      <td>85.100000</td>\n",
       "    </tr>\n",
       "    <tr>\n",
       "      <th>max</th>\n",
       "      <td>155.000000</td>\n",
       "      <td>7.537000</td>\n",
       "      <td>1.870766</td>\n",
       "      <td>1.610574</td>\n",
       "      <td>0.949492</td>\n",
       "      <td>0.658249</td>\n",
       "      <td>0.838075</td>\n",
       "      <td>0.464308</td>\n",
       "      <td>3.117485</td>\n",
       "      <td>95.100000</td>\n",
       "    </tr>\n",
       "  </tbody>\n",
       "</table>\n",
       "</div>"
      ],
      "text/plain": [
       "       Happiness Rank  Happiness Score     Economy      Family      Health  \\\n",
       "count      151.000000       151.000000  151.000000  151.000000  151.000000   \n",
       "mean        77.827815         5.357874    0.983895    1.190509    0.550794   \n",
       "std         44.934732         1.132826    0.420955    0.286371    0.236116   \n",
       "min          1.000000         2.693000    0.000000    0.000000    0.000000   \n",
       "25%         39.500000         4.505500    0.663371    1.042635    0.369866   \n",
       "50%         78.000000         5.279000    1.064578    1.253918    0.606042   \n",
       "75%        116.500000         6.101500    1.314879    1.418162    0.715975   \n",
       "max        155.000000         7.537000    1.870766    1.610574    0.949492   \n",
       "\n",
       "          Freedom  Generosity  Corruption    Dystopia  Job Satisfaction  \n",
       "count  151.000000  151.000000  151.000000  151.000000        151.000000  \n",
       "mean     0.409805    0.244914    0.123008    1.854910         75.209934  \n",
       "std      0.150144    0.135236    0.102776    0.502189         12.962365  \n",
       "min      0.000000    0.000000    0.000000    0.377914         44.400000  \n",
       "25%      0.303677    0.152574    0.056919    1.605148         68.950000  \n",
       "50%      0.437454    0.230947    0.089283    1.832910         78.100000  \n",
       "75%      0.519467    0.323762    0.152207    2.161605         85.100000  \n",
       "max      0.658249    0.838075    0.464308    3.117485         95.100000  "
      ]
     },
     "execution_count": 9,
     "metadata": {},
     "output_type": "execute_result"
    }
   ],
   "source": [
    "df.describe()"
   ]
  },
  {
   "cell_type": "markdown",
   "metadata": {},
   "source": [
    "Alternatively, we can create a `DataFrame` with only the requested statistics."
   ]
  },
  {
   "cell_type": "code",
   "execution_count": 10,
   "metadata": {},
   "outputs": [
    {
     "data": {
      "text/html": [
       "<div>\n",
       "<style scoped>\n",
       "    .dataframe tbody tr th:only-of-type {\n",
       "        vertical-align: middle;\n",
       "    }\n",
       "\n",
       "    .dataframe tbody tr th {\n",
       "        vertical-align: top;\n",
       "    }\n",
       "\n",
       "    .dataframe thead th {\n",
       "        text-align: right;\n",
       "    }\n",
       "</style>\n",
       "<table border=\"1\" class=\"dataframe\">\n",
       "  <thead>\n",
       "    <tr style=\"text-align: right;\">\n",
       "      <th></th>\n",
       "      <th>Happiness Rank</th>\n",
       "      <th>Happiness Score</th>\n",
       "      <th>Economy</th>\n",
       "      <th>Family</th>\n",
       "      <th>Health</th>\n",
       "      <th>Freedom</th>\n",
       "      <th>Generosity</th>\n",
       "      <th>Corruption</th>\n",
       "      <th>Dystopia</th>\n",
       "      <th>Job Satisfaction</th>\n",
       "    </tr>\n",
       "  </thead>\n",
       "  <tbody>\n",
       "    <tr>\n",
       "      <th>mean</th>\n",
       "      <td>77.827815</td>\n",
       "      <td>5.357874</td>\n",
       "      <td>0.983895</td>\n",
       "      <td>1.190509</td>\n",
       "      <td>0.550794</td>\n",
       "      <td>0.409805</td>\n",
       "      <td>0.244914</td>\n",
       "      <td>0.123008</td>\n",
       "      <td>1.854910</td>\n",
       "      <td>75.209934</td>\n",
       "    </tr>\n",
       "    <tr>\n",
       "      <th>min</th>\n",
       "      <td>1.000000</td>\n",
       "      <td>2.693000</td>\n",
       "      <td>0.000000</td>\n",
       "      <td>0.000000</td>\n",
       "      <td>0.000000</td>\n",
       "      <td>0.000000</td>\n",
       "      <td>0.000000</td>\n",
       "      <td>0.000000</td>\n",
       "      <td>0.377914</td>\n",
       "      <td>44.400000</td>\n",
       "    </tr>\n",
       "    <tr>\n",
       "      <th>max</th>\n",
       "      <td>155.000000</td>\n",
       "      <td>7.537000</td>\n",
       "      <td>1.870766</td>\n",
       "      <td>1.610574</td>\n",
       "      <td>0.949492</td>\n",
       "      <td>0.658249</td>\n",
       "      <td>0.838075</td>\n",
       "      <td>0.464308</td>\n",
       "      <td>3.117485</td>\n",
       "      <td>95.100000</td>\n",
       "    </tr>\n",
       "  </tbody>\n",
       "</table>\n",
       "</div>"
      ],
      "text/plain": [
       "      Happiness Rank  Happiness Score   Economy    Family    Health   Freedom  \\\n",
       "mean       77.827815         5.357874  0.983895  1.190509  0.550794  0.409805   \n",
       "min         1.000000         2.693000  0.000000  0.000000  0.000000  0.000000   \n",
       "max       155.000000         7.537000  1.870766  1.610574  0.949492  0.658249   \n",
       "\n",
       "      Generosity  Corruption  Dystopia  Job Satisfaction  \n",
       "mean    0.244914    0.123008  1.854910         75.209934  \n",
       "min     0.000000    0.000000  0.377914         44.400000  \n",
       "max     0.838075    0.464308  3.117485         95.100000  "
      ]
     },
     "execution_count": 10,
     "metadata": {},
     "output_type": "execute_result"
    }
   ],
   "source": [
    "def describe_less(df: pd.DataFrame) -> pd.DataFrame:\n",
    "    pairs = [(df.mean, 'mean'),\n",
    "             (df.min, 'min'),\n",
    "             (df.max, 'max')]\n",
    "    return pd.DataFrame({name: fun(numeric_only=True) for fun, name in pairs}).transpose()\n",
    "\n",
    "describe_less(df)"
   ]
  },
  {
   "cell_type": "markdown",
   "metadata": {},
   "source": [
    "### A.9. List the 10 happiest countries"
   ]
  },
  {
   "cell_type": "markdown",
   "metadata": {},
   "source": [
    "**Note:** Since a few countries have an identical happiness score, we make sure to use the happiness rank instead of the happiness score."
   ]
  },
  {
   "cell_type": "code",
   "execution_count": 11,
   "metadata": {},
   "outputs": [
    {
     "data": {
      "text/html": [
       "<div>\n",
       "<style scoped>\n",
       "    .dataframe tbody tr th:only-of-type {\n",
       "        vertical-align: middle;\n",
       "    }\n",
       "\n",
       "    .dataframe tbody tr th {\n",
       "        vertical-align: top;\n",
       "    }\n",
       "\n",
       "    .dataframe thead th {\n",
       "        text-align: right;\n",
       "    }\n",
       "</style>\n",
       "<table border=\"1\" class=\"dataframe\">\n",
       "  <thead>\n",
       "    <tr style=\"text-align: right;\">\n",
       "      <th></th>\n",
       "      <th>Country</th>\n",
       "      <th>Happiness Rank</th>\n",
       "      <th>Happiness Score</th>\n",
       "      <th>Economy</th>\n",
       "      <th>Family</th>\n",
       "      <th>Health</th>\n",
       "      <th>Freedom</th>\n",
       "      <th>Generosity</th>\n",
       "      <th>Corruption</th>\n",
       "      <th>Dystopia</th>\n",
       "      <th>Job Satisfaction</th>\n",
       "      <th>Region</th>\n",
       "    </tr>\n",
       "  </thead>\n",
       "  <tbody>\n",
       "    <tr>\n",
       "      <th>109</th>\n",
       "      <td>Norway</td>\n",
       "      <td>1</td>\n",
       "      <td>7.537</td>\n",
       "      <td>1.616463</td>\n",
       "      <td>1.533524</td>\n",
       "      <td>0.796667</td>\n",
       "      <td>0.635423</td>\n",
       "      <td>0.362012</td>\n",
       "      <td>0.315964</td>\n",
       "      <td>2.277027</td>\n",
       "      <td>94.6</td>\n",
       "      <td>Western Europe</td>\n",
       "    </tr>\n",
       "    <tr>\n",
       "      <th>97</th>\n",
       "      <td>Denmark</td>\n",
       "      <td>2</td>\n",
       "      <td>7.522</td>\n",
       "      <td>1.482383</td>\n",
       "      <td>1.551122</td>\n",
       "      <td>0.792566</td>\n",
       "      <td>0.626007</td>\n",
       "      <td>0.355280</td>\n",
       "      <td>0.400770</td>\n",
       "      <td>2.313707</td>\n",
       "      <td>93.5</td>\n",
       "      <td>Western Europe</td>\n",
       "    </tr>\n",
       "    <tr>\n",
       "      <th>47</th>\n",
       "      <td>Iceland</td>\n",
       "      <td>3</td>\n",
       "      <td>7.504</td>\n",
       "      <td>1.480633</td>\n",
       "      <td>1.610574</td>\n",
       "      <td>0.833552</td>\n",
       "      <td>0.627163</td>\n",
       "      <td>0.475540</td>\n",
       "      <td>0.153527</td>\n",
       "      <td>2.322715</td>\n",
       "      <td>94.5</td>\n",
       "      <td>Western Europe</td>\n",
       "    </tr>\n",
       "    <tr>\n",
       "      <th>78</th>\n",
       "      <td>Switzerland</td>\n",
       "      <td>4</td>\n",
       "      <td>7.494</td>\n",
       "      <td>1.564980</td>\n",
       "      <td>1.516912</td>\n",
       "      <td>0.858131</td>\n",
       "      <td>0.620071</td>\n",
       "      <td>0.290549</td>\n",
       "      <td>0.367007</td>\n",
       "      <td>2.276716</td>\n",
       "      <td>93.7</td>\n",
       "      <td>Western Europe</td>\n",
       "    </tr>\n",
       "    <tr>\n",
       "      <th>101</th>\n",
       "      <td>Finland</td>\n",
       "      <td>5</td>\n",
       "      <td>7.469</td>\n",
       "      <td>1.443572</td>\n",
       "      <td>1.540247</td>\n",
       "      <td>0.809158</td>\n",
       "      <td>0.617951</td>\n",
       "      <td>0.245483</td>\n",
       "      <td>0.382612</td>\n",
       "      <td>2.430182</td>\n",
       "      <td>91.2</td>\n",
       "      <td>Western Europe</td>\n",
       "    </tr>\n",
       "    <tr>\n",
       "      <th>105</th>\n",
       "      <td>Netherlands</td>\n",
       "      <td>6</td>\n",
       "      <td>7.377</td>\n",
       "      <td>1.503945</td>\n",
       "      <td>1.428939</td>\n",
       "      <td>0.810696</td>\n",
       "      <td>0.585384</td>\n",
       "      <td>0.470490</td>\n",
       "      <td>0.282662</td>\n",
       "      <td>2.294804</td>\n",
       "      <td>93.8</td>\n",
       "      <td>Western Europe</td>\n",
       "    </tr>\n",
       "    <tr>\n",
       "      <th>81</th>\n",
       "      <td>Canada</td>\n",
       "      <td>7</td>\n",
       "      <td>7.316</td>\n",
       "      <td>1.479204</td>\n",
       "      <td>1.481349</td>\n",
       "      <td>0.834558</td>\n",
       "      <td>0.611101</td>\n",
       "      <td>0.435540</td>\n",
       "      <td>0.287372</td>\n",
       "      <td>2.187264</td>\n",
       "      <td>90.5</td>\n",
       "      <td>North America</td>\n",
       "    </tr>\n",
       "    <tr>\n",
       "      <th>5</th>\n",
       "      <td>New Zealand</td>\n",
       "      <td>8</td>\n",
       "      <td>7.314</td>\n",
       "      <td>1.405706</td>\n",
       "      <td>1.548195</td>\n",
       "      <td>0.816760</td>\n",
       "      <td>0.614062</td>\n",
       "      <td>0.500005</td>\n",
       "      <td>0.382817</td>\n",
       "      <td>2.046456</td>\n",
       "      <td>88.6</td>\n",
       "      <td>Asia-Pacific</td>\n",
       "    </tr>\n",
       "    <tr>\n",
       "      <th>21</th>\n",
       "      <td>Sweden</td>\n",
       "      <td>9</td>\n",
       "      <td>7.284</td>\n",
       "      <td>1.494387</td>\n",
       "      <td>1.478162</td>\n",
       "      <td>0.830875</td>\n",
       "      <td>0.612924</td>\n",
       "      <td>0.385399</td>\n",
       "      <td>0.384399</td>\n",
       "      <td>2.097538</td>\n",
       "      <td>92.7</td>\n",
       "      <td>Western Europe</td>\n",
       "    </tr>\n",
       "    <tr>\n",
       "      <th>148</th>\n",
       "      <td>Australia</td>\n",
       "      <td>10</td>\n",
       "      <td>7.284</td>\n",
       "      <td>1.484415</td>\n",
       "      <td>1.510042</td>\n",
       "      <td>0.843887</td>\n",
       "      <td>0.601607</td>\n",
       "      <td>0.477699</td>\n",
       "      <td>0.301184</td>\n",
       "      <td>2.065211</td>\n",
       "      <td>89.2</td>\n",
       "      <td>Asia-Pacific</td>\n",
       "    </tr>\n",
       "  </tbody>\n",
       "</table>\n",
       "</div>"
      ],
      "text/plain": [
       "         Country  Happiness Rank  Happiness Score   Economy    Family  \\\n",
       "109       Norway               1            7.537  1.616463  1.533524   \n",
       "97       Denmark               2            7.522  1.482383  1.551122   \n",
       "47       Iceland               3            7.504  1.480633  1.610574   \n",
       "78   Switzerland               4            7.494  1.564980  1.516912   \n",
       "101      Finland               5            7.469  1.443572  1.540247   \n",
       "105  Netherlands               6            7.377  1.503945  1.428939   \n",
       "81        Canada               7            7.316  1.479204  1.481349   \n",
       "5    New Zealand               8            7.314  1.405706  1.548195   \n",
       "21        Sweden               9            7.284  1.494387  1.478162   \n",
       "148    Australia              10            7.284  1.484415  1.510042   \n",
       "\n",
       "       Health   Freedom  Generosity  Corruption  Dystopia  Job Satisfaction  \\\n",
       "109  0.796667  0.635423    0.362012    0.315964  2.277027              94.6   \n",
       "97   0.792566  0.626007    0.355280    0.400770  2.313707              93.5   \n",
       "47   0.833552  0.627163    0.475540    0.153527  2.322715              94.5   \n",
       "78   0.858131  0.620071    0.290549    0.367007  2.276716              93.7   \n",
       "101  0.809158  0.617951    0.245483    0.382612  2.430182              91.2   \n",
       "105  0.810696  0.585384    0.470490    0.282662  2.294804              93.8   \n",
       "81   0.834558  0.611101    0.435540    0.287372  2.187264              90.5   \n",
       "5    0.816760  0.614062    0.500005    0.382817  2.046456              88.6   \n",
       "21   0.830875  0.612924    0.385399    0.384399  2.097538              92.7   \n",
       "148  0.843887  0.601607    0.477699    0.301184  2.065211              89.2   \n",
       "\n",
       "             Region  \n",
       "109  Western Europe  \n",
       "97   Western Europe  \n",
       "47   Western Europe  \n",
       "78   Western Europe  \n",
       "101  Western Europe  \n",
       "105  Western Europe  \n",
       "81    North America  \n",
       "5      Asia-Pacific  \n",
       "21   Western Europe  \n",
       "148    Asia-Pacific  "
      ]
     },
     "execution_count": 11,
     "metadata": {},
     "output_type": "execute_result"
    }
   ],
   "source": [
    "df.nsmallest(n=10, columns='Happiness Rank')"
   ]
  },
  {
   "cell_type": "markdown",
   "metadata": {},
   "source": [
    "### A.10. List the 10 least happy countries"
   ]
  },
  {
   "cell_type": "code",
   "execution_count": 12,
   "metadata": {},
   "outputs": [
    {
     "data": {
      "text/html": [
       "<div>\n",
       "<style scoped>\n",
       "    .dataframe tbody tr th:only-of-type {\n",
       "        vertical-align: middle;\n",
       "    }\n",
       "\n",
       "    .dataframe tbody tr th {\n",
       "        vertical-align: top;\n",
       "    }\n",
       "\n",
       "    .dataframe thead th {\n",
       "        text-align: right;\n",
       "    }\n",
       "</style>\n",
       "<table border=\"1\" class=\"dataframe\">\n",
       "  <thead>\n",
       "    <tr style=\"text-align: right;\">\n",
       "      <th></th>\n",
       "      <th>Country</th>\n",
       "      <th>Happiness Rank</th>\n",
       "      <th>Happiness Score</th>\n",
       "      <th>Economy</th>\n",
       "      <th>Family</th>\n",
       "      <th>Health</th>\n",
       "      <th>Freedom</th>\n",
       "      <th>Generosity</th>\n",
       "      <th>Corruption</th>\n",
       "      <th>Dystopia</th>\n",
       "      <th>Job Satisfaction</th>\n",
       "      <th>Region</th>\n",
       "    </tr>\n",
       "  </thead>\n",
       "  <tbody>\n",
       "    <tr>\n",
       "      <th>79</th>\n",
       "      <td>Central African Republic</td>\n",
       "      <td>155</td>\n",
       "      <td>2.693</td>\n",
       "      <td>0.000000</td>\n",
       "      <td>0.000000</td>\n",
       "      <td>0.018773</td>\n",
       "      <td>0.270842</td>\n",
       "      <td>0.280876</td>\n",
       "      <td>0.056565</td>\n",
       "      <td>2.066005</td>\n",
       "      <td>70.4</td>\n",
       "      <td>Africa</td>\n",
       "    </tr>\n",
       "    <tr>\n",
       "      <th>40</th>\n",
       "      <td>Burundi</td>\n",
       "      <td>154</td>\n",
       "      <td>2.905</td>\n",
       "      <td>0.091623</td>\n",
       "      <td>0.629794</td>\n",
       "      <td>0.151611</td>\n",
       "      <td>0.059901</td>\n",
       "      <td>0.204435</td>\n",
       "      <td>0.084148</td>\n",
       "      <td>1.683024</td>\n",
       "      <td>54.3</td>\n",
       "      <td>Africa</td>\n",
       "    </tr>\n",
       "    <tr>\n",
       "      <th>45</th>\n",
       "      <td>Tanzania</td>\n",
       "      <td>153</td>\n",
       "      <td>3.349</td>\n",
       "      <td>0.511136</td>\n",
       "      <td>1.041990</td>\n",
       "      <td>0.364509</td>\n",
       "      <td>0.390018</td>\n",
       "      <td>0.354256</td>\n",
       "      <td>0.066035</td>\n",
       "      <td>0.621130</td>\n",
       "      <td>57.8</td>\n",
       "      <td>Africa</td>\n",
       "    </tr>\n",
       "    <tr>\n",
       "      <th>39</th>\n",
       "      <td>Syria</td>\n",
       "      <td>152</td>\n",
       "      <td>3.462</td>\n",
       "      <td>0.777153</td>\n",
       "      <td>0.396103</td>\n",
       "      <td>0.500533</td>\n",
       "      <td>0.081539</td>\n",
       "      <td>0.493664</td>\n",
       "      <td>0.151347</td>\n",
       "      <td>1.061574</td>\n",
       "      <td>62.7</td>\n",
       "      <td>Asia-Pacific</td>\n",
       "    </tr>\n",
       "    <tr>\n",
       "      <th>133</th>\n",
       "      <td>Rwanda</td>\n",
       "      <td>151</td>\n",
       "      <td>3.471</td>\n",
       "      <td>0.368746</td>\n",
       "      <td>0.945707</td>\n",
       "      <td>0.326425</td>\n",
       "      <td>0.581844</td>\n",
       "      <td>0.252756</td>\n",
       "      <td>0.455220</td>\n",
       "      <td>0.540061</td>\n",
       "      <td>51.7</td>\n",
       "      <td>Africa</td>\n",
       "    </tr>\n",
       "    <tr>\n",
       "      <th>53</th>\n",
       "      <td>Togo</td>\n",
       "      <td>150</td>\n",
       "      <td>3.495</td>\n",
       "      <td>0.305445</td>\n",
       "      <td>0.431883</td>\n",
       "      <td>0.247106</td>\n",
       "      <td>0.380426</td>\n",
       "      <td>0.196896</td>\n",
       "      <td>0.095665</td>\n",
       "      <td>1.837229</td>\n",
       "      <td>44.8</td>\n",
       "      <td>Africa</td>\n",
       "    </tr>\n",
       "    <tr>\n",
       "      <th>107</th>\n",
       "      <td>Guinea</td>\n",
       "      <td>149</td>\n",
       "      <td>3.507</td>\n",
       "      <td>0.244550</td>\n",
       "      <td>0.791245</td>\n",
       "      <td>0.194129</td>\n",
       "      <td>0.348588</td>\n",
       "      <td>0.264815</td>\n",
       "      <td>0.110938</td>\n",
       "      <td>1.552312</td>\n",
       "      <td>55.1</td>\n",
       "      <td>Africa</td>\n",
       "    </tr>\n",
       "    <tr>\n",
       "      <th>139</th>\n",
       "      <td>Liberia</td>\n",
       "      <td>148</td>\n",
       "      <td>3.533</td>\n",
       "      <td>0.119042</td>\n",
       "      <td>0.872118</td>\n",
       "      <td>0.229918</td>\n",
       "      <td>0.332881</td>\n",
       "      <td>0.266550</td>\n",
       "      <td>0.038948</td>\n",
       "      <td>1.673286</td>\n",
       "      <td>56.6</td>\n",
       "      <td>Africa</td>\n",
       "    </tr>\n",
       "    <tr>\n",
       "      <th>138</th>\n",
       "      <td>Yemen</td>\n",
       "      <td>146</td>\n",
       "      <td>3.593</td>\n",
       "      <td>0.591683</td>\n",
       "      <td>0.935382</td>\n",
       "      <td>0.310081</td>\n",
       "      <td>0.249464</td>\n",
       "      <td>0.104125</td>\n",
       "      <td>0.056767</td>\n",
       "      <td>1.345601</td>\n",
       "      <td>58.9</td>\n",
       "      <td>Asia-Pacific</td>\n",
       "    </tr>\n",
       "    <tr>\n",
       "      <th>124</th>\n",
       "      <td>Haiti</td>\n",
       "      <td>145</td>\n",
       "      <td>3.603</td>\n",
       "      <td>0.368610</td>\n",
       "      <td>0.640450</td>\n",
       "      <td>0.277321</td>\n",
       "      <td>0.030370</td>\n",
       "      <td>0.489204</td>\n",
       "      <td>0.099872</td>\n",
       "      <td>1.697168</td>\n",
       "      <td>48.5</td>\n",
       "      <td>Latin America</td>\n",
       "    </tr>\n",
       "  </tbody>\n",
       "</table>\n",
       "</div>"
      ],
      "text/plain": [
       "                      Country  Happiness Rank  Happiness Score   Economy  \\\n",
       "79   Central African Republic             155            2.693  0.000000   \n",
       "40                    Burundi             154            2.905  0.091623   \n",
       "45                   Tanzania             153            3.349  0.511136   \n",
       "39                      Syria             152            3.462  0.777153   \n",
       "133                    Rwanda             151            3.471  0.368746   \n",
       "53                       Togo             150            3.495  0.305445   \n",
       "107                    Guinea             149            3.507  0.244550   \n",
       "139                   Liberia             148            3.533  0.119042   \n",
       "138                     Yemen             146            3.593  0.591683   \n",
       "124                     Haiti             145            3.603  0.368610   \n",
       "\n",
       "       Family    Health   Freedom  Generosity  Corruption  Dystopia  \\\n",
       "79   0.000000  0.018773  0.270842    0.280876    0.056565  2.066005   \n",
       "40   0.629794  0.151611  0.059901    0.204435    0.084148  1.683024   \n",
       "45   1.041990  0.364509  0.390018    0.354256    0.066035  0.621130   \n",
       "39   0.396103  0.500533  0.081539    0.493664    0.151347  1.061574   \n",
       "133  0.945707  0.326425  0.581844    0.252756    0.455220  0.540061   \n",
       "53   0.431883  0.247106  0.380426    0.196896    0.095665  1.837229   \n",
       "107  0.791245  0.194129  0.348588    0.264815    0.110938  1.552312   \n",
       "139  0.872118  0.229918  0.332881    0.266550    0.038948  1.673286   \n",
       "138  0.935382  0.310081  0.249464    0.104125    0.056767  1.345601   \n",
       "124  0.640450  0.277321  0.030370    0.489204    0.099872  1.697168   \n",
       "\n",
       "     Job Satisfaction         Region  \n",
       "79               70.4         Africa  \n",
       "40               54.3         Africa  \n",
       "45               57.8         Africa  \n",
       "39               62.7   Asia-Pacific  \n",
       "133              51.7         Africa  \n",
       "53               44.8         Africa  \n",
       "107              55.1         Africa  \n",
       "139              56.6         Africa  \n",
       "138              58.9   Asia-Pacific  \n",
       "124              48.5  Latin America  "
      ]
     },
     "execution_count": 12,
     "metadata": {},
     "output_type": "execute_result"
    }
   ],
   "source": [
    "df.nlargest(n=10, columns='Happiness Rank')"
   ]
  },
  {
   "cell_type": "markdown",
   "metadata": {},
   "source": [
    "## B. Indexing and grouping"
   ]
  },
  {
   "cell_type": "markdown",
   "metadata": {},
   "source": [
    "### B.1. Group the data points by region and save them into separate .csv files"
   ]
  },
  {
   "cell_type": "markdown",
   "metadata": {},
   "source": [
    "**Note:** It turns out that there are 7 regions in the file (vs. 6 mentioned in the task description). Upon inspection, Ukraine is the only country in the _Europe_ region. Based on [this article](https://en.wikipedia.org/wiki/Eastern_Europe)  on Wikipedia, we add Ukraine to the _Eastern Europe_ region."
   ]
  },
  {
   "cell_type": "code",
   "execution_count": 13,
   "metadata": {},
   "outputs": [
    {
     "data": {
      "text/html": [
       "<div>\n",
       "<style scoped>\n",
       "    .dataframe tbody tr th:only-of-type {\n",
       "        vertical-align: middle;\n",
       "    }\n",
       "\n",
       "    .dataframe tbody tr th {\n",
       "        vertical-align: top;\n",
       "    }\n",
       "\n",
       "    .dataframe thead th {\n",
       "        text-align: right;\n",
       "    }\n",
       "</style>\n",
       "<table border=\"1\" class=\"dataframe\">\n",
       "  <thead>\n",
       "    <tr style=\"text-align: right;\">\n",
       "      <th></th>\n",
       "      <th>Countries</th>\n",
       "    </tr>\n",
       "    <tr>\n",
       "      <th>Region</th>\n",
       "      <th></th>\n",
       "    </tr>\n",
       "  </thead>\n",
       "  <tbody>\n",
       "    <tr>\n",
       "      <th>Africa</th>\n",
       "      <td>43</td>\n",
       "    </tr>\n",
       "    <tr>\n",
       "      <th>Asia-Pacific</th>\n",
       "      <td>43</td>\n",
       "    </tr>\n",
       "    <tr>\n",
       "      <th>Eastern Europe</th>\n",
       "      <td>22</td>\n",
       "    </tr>\n",
       "    <tr>\n",
       "      <th>Latin America</th>\n",
       "      <td>22</td>\n",
       "    </tr>\n",
       "    <tr>\n",
       "      <th>North America</th>\n",
       "      <td>2</td>\n",
       "    </tr>\n",
       "    <tr>\n",
       "      <th>Western Europe</th>\n",
       "      <td>19</td>\n",
       "    </tr>\n",
       "  </tbody>\n",
       "</table>\n",
       "</div>"
      ],
      "text/plain": [
       "                Countries\n",
       "Region                   \n",
       "Africa                 43\n",
       "Asia-Pacific           43\n",
       "Eastern Europe         22\n",
       "Latin America          22\n",
       "North America           2\n",
       "Western Europe         19"
      ]
     },
     "execution_count": 13,
     "metadata": {},
     "output_type": "execute_result"
    }
   ],
   "source": [
    "df.loc[df['Country'] == 'Ukraine', 'Region'] = 'Eastern Europe'\n",
    "\n",
    "(df\n",
    " .groupby(by='Region')\n",
    " .agg({'Country': 'count'})\n",
    " .rename(columns={'Country': 'Countries'})\n",
    ")"
   ]
  },
  {
   "cell_type": "code",
   "execution_count": 14,
   "metadata": {},
   "outputs": [
    {
     "name": "stdout",
     "output_type": "stream",
     "text": [
      "Saving region 'Western Europe' to 'western_europe.csv'\n",
      "Saving region 'Africa' to 'africa.csv'\n",
      "Saving region 'Eastern Europe' to 'eastern_europe.csv'\n",
      "Saving region 'Asia-Pacific' to 'asia-pacific.csv'\n",
      "Saving region 'Latin America' to 'latin_america.csv'\n",
      "Saving region 'North America' to 'north_america.csv'\n"
     ]
    }
   ],
   "source": [
    "regions = df['Region'].unique()\n",
    "\n",
    "\n",
    "def sanitize(region: str) -> str:\n",
    "    \"\"\"Converts a region name to a file name.\"\"\"\n",
    "    return '_'.join(region.lower().split())\n",
    "\n",
    "\n",
    "# Map each region name to a DataFrame that contains data points for that region:\n",
    "region_to_df = {region: df[df['Region'] == region] for region in regions}\n",
    "\n",
    "# Save each DataFrame:\n",
    "for region, df_region in region_to_df.items():\n",
    "    region_filename = pathlib.Path.cwd().joinpath(f'{sanitize(region)}.csv')\n",
    "    print(f\"Saving region '{region}' to '{region_filename.name}'\")\n",
    "    df_region.to_csv(region_filename, index=False)"
   ]
  },
  {
   "cell_type": "markdown",
   "metadata": {},
   "source": [
    "### B.2. Compute the mean happiness score for each region and rank the regions from most happy to least happy"
   ]
  },
  {
   "cell_type": "code",
   "execution_count": 15,
   "metadata": {},
   "outputs": [
    {
     "data": {
      "text/html": [
       "<div>\n",
       "<style scoped>\n",
       "    .dataframe tbody tr th:only-of-type {\n",
       "        vertical-align: middle;\n",
       "    }\n",
       "\n",
       "    .dataframe tbody tr th {\n",
       "        vertical-align: top;\n",
       "    }\n",
       "\n",
       "    .dataframe thead th {\n",
       "        text-align: right;\n",
       "    }\n",
       "</style>\n",
       "<table border=\"1\" class=\"dataframe\">\n",
       "  <thead>\n",
       "    <tr style=\"text-align: right;\">\n",
       "      <th></th>\n",
       "      <th>Mean Happiness Score</th>\n",
       "    </tr>\n",
       "    <tr>\n",
       "      <th>Region</th>\n",
       "      <th></th>\n",
       "    </tr>\n",
       "  </thead>\n",
       "  <tbody>\n",
       "    <tr>\n",
       "      <th>North America</th>\n",
       "      <td>7.154500</td>\n",
       "    </tr>\n",
       "    <tr>\n",
       "      <th>Western Europe</th>\n",
       "      <td>6.880474</td>\n",
       "    </tr>\n",
       "    <tr>\n",
       "      <th>Latin America</th>\n",
       "      <td>5.957818</td>\n",
       "    </tr>\n",
       "    <tr>\n",
       "      <th>Eastern Europe</th>\n",
       "      <td>5.435182</td>\n",
       "    </tr>\n",
       "    <tr>\n",
       "      <th>Asia-Pacific</th>\n",
       "      <td>5.358326</td>\n",
       "    </tr>\n",
       "    <tr>\n",
       "      <th>Africa</th>\n",
       "      <td>4.254581</td>\n",
       "    </tr>\n",
       "  </tbody>\n",
       "</table>\n",
       "</div>"
      ],
      "text/plain": [
       "                Mean Happiness Score\n",
       "Region                              \n",
       "North America               7.154500\n",
       "Western Europe              6.880474\n",
       "Latin America               5.957818\n",
       "Eastern Europe              5.435182\n",
       "Asia-Pacific                5.358326\n",
       "Africa                      4.254581"
      ]
     },
     "execution_count": 15,
     "metadata": {},
     "output_type": "execute_result"
    }
   ],
   "source": [
    "(df\n",
    " .groupby(by='Region')\n",
    " .agg({'Happiness Score': 'mean'})\n",
    " .rename(columns={'Happiness Score': 'Mean Happiness Score'})\n",
    " .sort_values(by='Mean Happiness Score', ascending=False)\n",
    ")"
   ]
  },
  {
   "cell_type": "markdown",
   "metadata": {},
   "source": [
    "**Note:** North America appears to be the happiest region while Africa appears to be the least happy one."
   ]
  },
  {
   "cell_type": "markdown",
   "metadata": {},
   "source": [
    "### B.3. Compute the number of countries in each region that have a happiness score above 6.0"
   ]
  },
  {
   "cell_type": "code",
   "execution_count": 16,
   "metadata": {},
   "outputs": [
    {
     "data": {
      "text/html": [
       "<div>\n",
       "<style scoped>\n",
       "    .dataframe tbody tr th:only-of-type {\n",
       "        vertical-align: middle;\n",
       "    }\n",
       "\n",
       "    .dataframe tbody tr th {\n",
       "        vertical-align: top;\n",
       "    }\n",
       "\n",
       "    .dataframe thead th {\n",
       "        text-align: right;\n",
       "    }\n",
       "</style>\n",
       "<table border=\"1\" class=\"dataframe\">\n",
       "  <thead>\n",
       "    <tr style=\"text-align: right;\">\n",
       "      <th></th>\n",
       "      <th>Countries with Happiness Score &gt; 6.0</th>\n",
       "    </tr>\n",
       "    <tr>\n",
       "      <th>Region</th>\n",
       "      <th></th>\n",
       "    </tr>\n",
       "  </thead>\n",
       "  <tbody>\n",
       "    <tr>\n",
       "      <th>Africa</th>\n",
       "      <td>0.0</td>\n",
       "    </tr>\n",
       "    <tr>\n",
       "      <th>Asia-Pacific</th>\n",
       "      <td>11.0</td>\n",
       "    </tr>\n",
       "    <tr>\n",
       "      <th>Eastern Europe</th>\n",
       "      <td>1.0</td>\n",
       "    </tr>\n",
       "    <tr>\n",
       "      <th>Latin America</th>\n",
       "      <td>13.0</td>\n",
       "    </tr>\n",
       "    <tr>\n",
       "      <th>North America</th>\n",
       "      <td>2.0</td>\n",
       "    </tr>\n",
       "    <tr>\n",
       "      <th>Western Europe</th>\n",
       "      <td>17.0</td>\n",
       "    </tr>\n",
       "  </tbody>\n",
       "</table>\n",
       "</div>"
      ],
      "text/plain": [
       "                Countries with Happiness Score > 6.0\n",
       "Region                                              \n",
       "Africa                                           0.0\n",
       "Asia-Pacific                                    11.0\n",
       "Eastern Europe                                   1.0\n",
       "Latin America                                   13.0\n",
       "North America                                    2.0\n",
       "Western Europe                                  17.0"
      ]
     },
     "execution_count": 16,
     "metadata": {},
     "output_type": "execute_result"
    }
   ],
   "source": [
    "(df\n",
    " .groupby(by='Region')\n",
    " .agg({'Happiness Score': lambda series: series[series > 6.0].count()})\n",
    " .rename(columns={'Happiness Score': 'Countries with Happiness Score > 6.0'})\n",
    ")"
   ]
  },
  {
   "cell_type": "markdown",
   "metadata": {},
   "source": [
    "### B.4. Compute the difference between the maximum and minimum happiness score for each region. Which region has the largest range of happiness scores?"
   ]
  },
  {
   "cell_type": "code",
   "execution_count": 17,
   "metadata": {},
   "outputs": [
    {
     "data": {
      "text/html": [
       "<div>\n",
       "<style scoped>\n",
       "    .dataframe tbody tr th:only-of-type {\n",
       "        vertical-align: middle;\n",
       "    }\n",
       "\n",
       "    .dataframe tbody tr th {\n",
       "        vertical-align: top;\n",
       "    }\n",
       "\n",
       "    .dataframe thead th {\n",
       "        text-align: right;\n",
       "    }\n",
       "</style>\n",
       "<table border=\"1\" class=\"dataframe\">\n",
       "  <thead>\n",
       "    <tr style=\"text-align: right;\">\n",
       "      <th></th>\n",
       "      <th>Range of Happiness Score</th>\n",
       "    </tr>\n",
       "    <tr>\n",
       "      <th>Region</th>\n",
       "      <th></th>\n",
       "    </tr>\n",
       "  </thead>\n",
       "  <tbody>\n",
       "    <tr>\n",
       "      <th>Asia-Pacific</th>\n",
       "      <td>3.852</td>\n",
       "    </tr>\n",
       "    <tr>\n",
       "      <th>Latin America</th>\n",
       "      <td>3.476</td>\n",
       "    </tr>\n",
       "    <tr>\n",
       "      <th>Africa</th>\n",
       "      <td>3.179</td>\n",
       "    </tr>\n",
       "    <tr>\n",
       "      <th>Western Europe</th>\n",
       "      <td>2.342</td>\n",
       "    </tr>\n",
       "    <tr>\n",
       "      <th>Eastern Europe</th>\n",
       "      <td>2.002</td>\n",
       "    </tr>\n",
       "    <tr>\n",
       "      <th>North America</th>\n",
       "      <td>0.323</td>\n",
       "    </tr>\n",
       "  </tbody>\n",
       "</table>\n",
       "</div>"
      ],
      "text/plain": [
       "                Range of Happiness Score\n",
       "Region                                  \n",
       "Asia-Pacific                       3.852\n",
       "Latin America                      3.476\n",
       "Africa                             3.179\n",
       "Western Europe                     2.342\n",
       "Eastern Europe                     2.002\n",
       "North America                      0.323"
      ]
     },
     "execution_count": 17,
     "metadata": {},
     "output_type": "execute_result"
    }
   ],
   "source": [
    "(df\n",
    " .groupby(\"Region\")\n",
    " .agg({\"Happiness Score\": lambda series: np.max(series) - np.min(series)})\n",
    " .rename(columns={'Happiness Score': 'Range of Happiness Score'})\n",
    " .sort_values(by='Range of Happiness Score', ascending=False)\n",
    ")"
   ]
  },
  {
   "cell_type": "markdown",
   "metadata": {},
   "source": [
    "**Note:** Asia-Pacific has the largest range of happiness scores."
   ]
  },
  {
   "cell_type": "markdown",
   "metadata": {},
   "source": [
    "## C. Bar plot of the Happiness Score"
   ]
  },
  {
   "cell_type": "markdown",
   "metadata": {},
   "source": [
    "### C.1. Obtain a horizontal bar plot of the Happiness Score of the top 10 countries"
   ]
  },
  {
   "cell_type": "code",
   "execution_count": 18,
   "metadata": {},
   "outputs": [
    {
     "data": {
      "image/png": "[encoded data removed]",
      "text/plain": [
       "<Figure size 432x288 with 1 Axes>"
      ]
     },
     "metadata": {
      "needs_background": "light"
     },
     "output_type": "display_data"
    }
   ],
   "source": [
    "df_top10_hs = df.nlargest(n=10, columns='Happiness Score')\n",
    "\n",
    "# Ensure countries appear in ascending order:\n",
    "df_top10_hs_asc = df_top10_hs.iloc[::-1]\n",
    "\n",
    "\n",
    "def plot_happiness_score_hbar(df: pd.DataFrame) -> None:\n",
    "    \"\"\"Plots the hapiness score horizontal bar chart using the current axes.\"\"\"\n",
    "    y_coords = np.arange(len(df))\n",
    "    y_labels = df['Country']\n",
    "\n",
    "    # Plot horizontal bars:\n",
    "    plt.barh(y_coords, df['Happiness Score'], edgecolor='black')\n",
    "\n",
    "    plt.yticks(y_coords, y_labels)\n",
    "    plt.xlim(0, 8)\n",
    "    plt.ylabel('Country')\n",
    "    plt.xlabel('Happiness Score')\n",
    "    plt.title('Happiness Score of the top 10 countries')\n",
    "\n",
    "    \n",
    "plot_happiness_score_hbar(df_top10_hs_asc)\n",
    "plt.show()"
   ]
  },
  {
   "cell_type": "markdown",
   "metadata": {},
   "source": [
    "### C.2. Modify the bar chart you obtained in step 1 to turn it into a stacked bar chart"
   ]
  },
  {
   "cell_type": "code",
   "execution_count": 19,
   "metadata": {},
   "outputs": [
    {
     "data": {
      "image/png": "[encoded data removed]",
      "text/plain": [
       "<Figure size 432x288 with 1 Axes>"
      ]
     },
     "metadata": {
      "needs_background": "light"
     },
     "output_type": "display_data"
    }
   ],
   "source": [
    "# Helper function:\n",
    "def get_colors(series: pd.Series, cmap_name: str) -> List[Tuple[float, float, float, float]]:\n",
    "    \"\"\"Returns colors in the given color-map for the values in the given (numerical) series.\"\"\"\n",
    "    cmap = get_cmap(cmap_name)\n",
    "    normalize = Normalize(series.min() - 0.1, series.max() + 0.1)\n",
    "    colors = [cmap(normalize(value)) for value in series]\n",
    "    return colors\n",
    "\n",
    "    \n",
    "def plot_hapiness_score_stackedhbar(df: pd.DataFrame) -> None:\n",
    "    \"\"\"Plots the hapiness score stacked horizontal bar chart using the current axes.\"\"\"\n",
    "    components = [\n",
    "        'Economy',\n",
    "        'Family',\n",
    "        'Health',\n",
    "        'Freedom',\n",
    "        'Generosity',\n",
    "        'Corruption',\n",
    "        'Dystopia'\n",
    "    ]\n",
    "    \n",
    "    y_coords = np.arange(len(df))\n",
    "    y_labels = df['Country']\n",
    "    \n",
    "    # Plot horizontal bars component by component:\n",
    "    colors = get_colors(np.arange(len(components)), 'Pastel1')\n",
    "    left = np.zeros(len(df))\n",
    "    for component, color in zip(components, colors):\n",
    "        plt.barh(y_coords, df[component], left=left, color=color, edgecolor='black', label=component)\n",
    "        left += df[component]\n",
    "\n",
    "    plt.yticks(y_coords, y_labels)\n",
    "    plt.xlim(0, 8)\n",
    "    plt.ylabel('Country')\n",
    "    plt.xlabel('Happiness Score')\n",
    "    plt.title('Happiness Score of the top 10 countries')\n",
    "    plt.legend()\n",
    "\n",
    "\n",
    "plot_hapiness_score_stackedhbar(df_top10_hs_asc)\n",
    "plt.show()"
   ]
  },
  {
   "cell_type": "markdown",
   "metadata": {},
   "source": [
    "### C.3. Obtain the same stacked bar chart as in step 2 but consider all countries from the region Africa"
   ]
  },
  {
   "cell_type": "code",
   "execution_count": 20,
   "metadata": {},
   "outputs": [
    {
     "data": {
      "image/png": "[encoded data removed]",
      "text/plain": [
       "<Figure size 432x1152 with 1 Axes>"
      ]
     },
     "metadata": {
      "needs_background": "light"
     },
     "output_type": "display_data"
    }
   ],
   "source": [
    "df_africa_hs_asc = region_to_df['Africa'].sort_values('Happiness Score')\n",
    "plt.figure(figsize=(6.0, 16.0))  # make the figure taller\n",
    "plot_hapiness_score_stackedhbar(df_africa_hs_asc)\n",
    "plt.show()"
   ]
  },
  {
   "cell_type": "markdown",
   "metadata": {},
   "source": [
    "## D. Histogram of Job Satisfaction"
   ]
  },
  {
   "cell_type": "markdown",
   "metadata": {},
   "source": [
    "### D.1. Obtain a histogram of the Job Satisfaction"
   ]
  },
  {
   "cell_type": "code",
   "execution_count": 21,
   "metadata": {},
   "outputs": [
    {
     "data": {
      "image/png": "[encoded data removed]",
      "text/plain": [
       "<Figure size 432x288 with 1 Axes>"
      ]
     },
     "metadata": {
      "needs_background": "light"
     },
     "output_type": "display_data"
    }
   ],
   "source": [
    "bins = np.arange(40, 100 + 10, 10)  # 40, 50, ..., 100\n",
    "plt.hist(df['Job Satisfaction'], bins=bins, edgecolor='black')\n",
    "x_labels = list(f'{edge}%' for edge in bins)\n",
    "plt.xticks(bins, x_labels)\n",
    "plt.ylabel('Number of Countries')\n",
    "plt.xlabel('Job Satisfaction')\n",
    "plt.title('Histogram of the Job Satisfaction')\n",
    "plt.show()"
   ]
  },
  {
   "cell_type": "markdown",
   "metadata": {},
   "source": [
    "## E. Pairwise Scatter plots"
   ]
  },
  {
   "cell_type": "markdown",
   "metadata": {},
   "source": [
    "### E.1. Obtain scatter plots of the Happiness Score versus each of the other variables"
   ]
  },
  {
   "cell_type": "code",
   "execution_count": 22,
   "metadata": {},
   "outputs": [
    {
     "data": {
      "image/png": "[encoded data removed]",
      "text/plain": [
       "<Figure size 1440x180 with 8 Axes>"
      ]
     },
     "metadata": {
      "needs_background": "light"
     },
     "output_type": "display_data"
    }
   ],
   "source": [
    "base_var = 'Happiness Score'\n",
    "other_vars = [\n",
    "    'Economy',\n",
    "    'Family',\n",
    "    'Health',\n",
    "    'Freedom',\n",
    "    'Generosity',\n",
    "    'Corruption',\n",
    "    'Dystopia',\n",
    "    'Job Satisfaction'\n",
    "]\n",
    "\n",
    "g = sns.pairplot(df, x_vars=other_vars, y_vars=[base_var])\n",
    "g.fig.suptitle(\"Happiness Score vs. other Variables\")\n",
    "plt.show()"
   ]
  },
  {
   "cell_type": "markdown",
   "metadata": {},
   "source": [
    "## F. Correlation"
   ]
  },
  {
   "cell_type": "markdown",
   "metadata": {},
   "source": [
    "### F.1. Obtain the correlation between the Happiness Score and each of the other variables"
   ]
  },
  {
   "cell_type": "code",
   "execution_count": 23,
   "metadata": {},
   "outputs": [
    {
     "data": {
      "text/html": [
       "<div>\n",
       "<style scoped>\n",
       "    .dataframe tbody tr th:only-of-type {\n",
       "        vertical-align: middle;\n",
       "    }\n",
       "\n",
       "    .dataframe tbody tr th {\n",
       "        vertical-align: top;\n",
       "    }\n",
       "\n",
       "    .dataframe thead th {\n",
       "        text-align: right;\n",
       "    }\n",
       "</style>\n",
       "<table border=\"1\" class=\"dataframe\">\n",
       "  <thead>\n",
       "    <tr style=\"text-align: right;\">\n",
       "      <th></th>\n",
       "      <th>Economy</th>\n",
       "      <th>Family</th>\n",
       "      <th>Health</th>\n",
       "      <th>Freedom</th>\n",
       "      <th>Generosity</th>\n",
       "      <th>Corruption</th>\n",
       "      <th>Dystopia</th>\n",
       "      <th>Job Satisfaction</th>\n",
       "    </tr>\n",
       "  </thead>\n",
       "  <tbody>\n",
       "    <tr>\n",
       "      <th>Happiness Score</th>\n",
       "      <td>0.808678</td>\n",
       "      <td>0.749612</td>\n",
       "      <td>0.777731</td>\n",
       "      <td>0.567948</td>\n",
       "      <td>0.164123</td>\n",
       "      <td>0.438262</td>\n",
       "      <td>0.481117</td>\n",
       "      <td>0.812873</td>\n",
       "    </tr>\n",
       "  </tbody>\n",
       "</table>\n",
       "</div>"
      ],
      "text/plain": [
       "                  Economy    Family    Health   Freedom  Generosity  \\\n",
       "Happiness Score  0.808678  0.749612  0.777731  0.567948    0.164123   \n",
       "\n",
       "                 Corruption  Dystopia  Job Satisfaction  \n",
       "Happiness Score    0.438262  0.481117          0.812873  "
      ]
     },
     "execution_count": 23,
     "metadata": {},
     "output_type": "execute_result"
    }
   ],
   "source": [
    "# Compute the correlation coefficients (Pearson):\n",
    "coefficients = {other_var: df[base_var].corr(df[other_var]) for other_var in other_vars}\n",
    "pd.DataFrame(coefficients, columns=other_vars, index=[base_var])"
   ]
  },
  {
   "cell_type": "markdown",
   "metadata": {},
   "source": [
    "**Note:** If one looks only at the components of the Happiness Score, the variable with the highest correlation appears to be the Economy. If one includes the Job Satisfaction as well, the variable with the highest correlation appears to be the Job Satisfaction."
   ]
  },
  {
   "cell_type": "markdown",
   "metadata": {},
   "source": [
    "## G. Probabilities"
   ]
  },
  {
   "cell_type": "markdown",
   "metadata": {},
   "source": [
    "### G.1. Compute the probability that a randomly selected country with Happiness score over 6.0 is from Western Europe"
   ]
  },
  {
   "cell_type": "markdown",
   "metadata": {},
   "source": [
    "The experiment consists in randomly selecting a country. Let:\n",
    "* $A$ be the event that the country has a Happiness Score over $6.0$.\n",
    "* $B$ be the event that the country's Region is Western Europe.\n",
    "\n",
    "We want to find: $$P(B|A) = \\frac{P(A \\cap B)}{P(A)} \\text{.}$$"
   ]
  },
  {
   "cell_type": "code",
   "execution_count": 24,
   "metadata": {},
   "outputs": [
    {
     "name": "stdout",
     "output_type": "stream",
     "text": [
      "P(B|A) = 0.39, i.e. 38.64%\n",
      "P(B|A) = 0.39, i.e. 38.64%\n"
     ]
    }
   ],
   "source": [
    "p_A_and_B = len(df[(df['Happiness Score'] > 6.0) & (df['Region'] == 'Western Europe')]) / len(df)\n",
    "p_A = len(df[df['Happiness Score'] > 6.0]) / len(df)\n",
    "p_B_given_A = p_A_and_B / p_A\n",
    "print(f'P(B|A) = {p_B_given_A:.2f}, i.e. {p_B_given_A * 100.0:.2f}%')\n",
    "\n",
    "# Alternatively, we can use the event A as the new World:\n",
    "df_A = df[df['Happiness Score'] > 6.0]\n",
    "p_B_given_A = len(df_A[df_A['Region'] == 'Western Europe']) / len(df_A)\n",
    "print(f'P(B|A) = {p_B_given_A:.2f}, i.e. {p_B_given_A * 100.0:.2f}%')"
   ]
  },
  {
   "cell_type": "markdown",
   "metadata": {},
   "source": [
    "## H. Matrices"
   ]
  },
  {
   "cell_type": "markdown",
   "metadata": {},
   "source": [
    "### H.1. Define a matrix whose rows correspond to countries and the columns to the regions"
   ]
  },
  {
   "cell_type": "markdown",
   "metadata": {},
   "source": [
    "Let $C$ be the number of countries and $R$ be the number of regions. We fill in a $C \\times R$ matrix $M$ so that\n",
    "$$\n",
    "M_{i,j} =\n",
    "  \\begin{cases}\n",
    "    1 & \\quad \\text{if the country in row } i \\text{ is in the region in column } j \\text{,} \\\\\n",
    "    0 & \\quad \\text{otherwise.}\n",
    "  \\end{cases}\n",
    "$$\n",
    "\n",
    "\n",
    "**Note:** We number countries starting from 0, in their original order of appearance. We number regions starting from 0, in the order they first appear in the column _Region_."
   ]
  },
  {
   "cell_type": "code",
   "execution_count": 25,
   "metadata": {},
   "outputs": [
    {
     "data": {
      "text/plain": [
       "array([[1., 0., 0., ..., 0., 0., 0.],\n",
       "       [0., 1., 0., ..., 0., 0., 0.],\n",
       "       [0., 0., 1., ..., 0., 0., 0.],\n",
       "       ...,\n",
       "       [0., 0., 0., ..., 0., 0., 0.],\n",
       "       [0., 0., 0., ..., 0., 0., 0.],\n",
       "       [0., 0., 1., ..., 0., 0., 0.]])"
      ]
     },
     "execution_count": 25,
     "metadata": {},
     "output_type": "execute_result"
    }
   ],
   "source": [
    "# We get a series of regions, indexed by country-indices in the contiguous range [0, C):\n",
    "# (We need to reset the index because we removed a couple of observations in A.7.)\n",
    "s_regions = df['Region'].reset_index(drop=True)\n",
    "\n",
    "# We get a map from region-names to region-indices in the contiguous range [0, R):\n",
    "region_to_index = {region: i for i, region in enumerate(regions)}\n",
    "\n",
    "# We build the matrix:\n",
    "M = np.zeros((len(df), len(s_regions)))\n",
    "for i, region in s_regions.items():\n",
    "    j = region_to_index[region]\n",
    "    M[i, j] = 1\n",
    "    \n",
    "# Quick check:\n",
    "assert np.count_nonzero(M == 1) == 151\n",
    "\n",
    "M"
   ]
  },
  {
   "cell_type": "code",
   "execution_count": null,
   "metadata": {},
   "outputs": [],
   "source": []
  }
 ],
 "metadata": {
  "kernelspec": {
   "display_name": "Python 3",
   "language": "python",
   "name": "python3"
  },
  "language_info": {
   "codemirror_mode": {
    "name": "ipython",
    "version": 3
   },
   "file_extension": ".py",
   "mimetype": "text/x-python",
   "name": "python",
   "nbconvert_exporter": "python",
   "pygments_lexer": "ipython3",
   "version": "3.6.7"
  }
 },
 "nbformat": 4,
 "nbformat_minor": 2
}
